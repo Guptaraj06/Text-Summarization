{
  "cells": [
    {
      "cell_type": "markdown",
      "metadata": {
        "id": "view-in-github",
        "colab_type": "text"
      },
      "source": [
        "<a href=\"https://colab.research.google.com/github/Guptaraj06/Text-Summarization/blob/main/TextSummarization.ipynb\" target=\"_parent\"><img src=\"https://colab.research.google.com/assets/colab-badge.svg\" alt=\"Open In Colab\"/></a>"
      ]
    },
    {
      "cell_type": "code",
      "execution_count": null,
      "metadata": {
        "id": "HfUq_5TJ3quL"
      },
      "outputs": [],
      "source": [
        "!pip install kaggle"
      ]
    },
    {
      "cell_type": "code",
      "execution_count": null,
      "metadata": {
        "id": "v-9u0OKs3uik",
        "colab": {
          "base_uri": "https://localhost:8080/"
        },
        "outputId": "9ad6f12f-8432-4ef1-c762-3bb38ad1042e"
      },
      "outputs": [
        {
          "output_type": "stream",
          "name": "stdout",
          "text": [
            "mkdir: cannot create directory ‘/root/.kaggle’: File exists\n"
          ]
        }
      ],
      "source": [
        "!mkdir ~/.kaggle"
      ]
    },
    {
      "cell_type": "code",
      "execution_count": null,
      "metadata": {
        "id": "PtHSqC7P3y9U"
      },
      "outputs": [],
      "source": [
        "from google.colab import files\n",
        "files.upload()"
      ]
    },
    {
      "cell_type": "code",
      "execution_count": null,
      "metadata": {
        "id": "ox-nBMRL39By"
      },
      "outputs": [],
      "source": [
        "!cp kaggle.json ~/.kaggle/"
      ]
    },
    {
      "cell_type": "code",
      "execution_count": null,
      "metadata": {
        "id": "v4vgAEPF4Crz"
      },
      "outputs": [],
      "source": [
        "!chmod 600 ~/.kaggle/kaggle.json"
      ]
    },
    {
      "cell_type": "code",
      "execution_count": null,
      "metadata": {
        "id": "hUXlKsKM4IL6"
      },
      "outputs": [],
      "source": [
        "!kaggle datasets download sunnysai12345/news-summary"
      ]
    },
    {
      "cell_type": "code",
      "execution_count": null,
      "metadata": {
        "id": "h_lfQ_334UK5"
      },
      "outputs": [],
      "source": [
        "!unzip news-summary.zip"
      ]
    },
    {
      "cell_type": "code",
      "execution_count": null,
      "metadata": {
        "id": "qBsbYF4a4Zya"
      },
      "outputs": [],
      "source": [
        "import numpy as np\n",
        "import pandas as pd\n"
      ]
    },
    {
      "cell_type": "code",
      "execution_count": null,
      "metadata": {
        "id": "9w0brhb65WhR"
      },
      "outputs": [],
      "source": [
        "df=pd.read_csv('/content/news_summary.csv',encoding='iso-8859-1')\n",
        "pdf=pd.read_csv('/content/news_summary_more.csv',encoding='iso-8859-1')"
      ]
    },
    {
      "cell_type": "code",
      "execution_count": null,
      "metadata": {
        "id": "vcL304VUFqR3"
      },
      "outputs": [],
      "source": [
        "df"
      ]
    },
    {
      "cell_type": "code",
      "execution_count": null,
      "metadata": {
        "id": "fO8S33G__IeR"
      },
      "outputs": [],
      "source": [
        "pdf"
      ]
    },
    {
      "cell_type": "code",
      "execution_count": null,
      "metadata": {
        "id": "gGDBKKDpNaZq"
      },
      "outputs": [],
      "source": [
        "pre1=pdf.iloc[:,0:2].copy()\n",
        "\n",
        "pre2=df.iloc[:,0:6].copy()\n",
        "\n",
        "pre2['text']=pre2['author'].str.cat(pre2['date'].str.cat(pre2['read_more'].str.cat(pre2['text'].str.cat(pre2['ctext'],\n",
        "                                                                                                        sep=\" \"),\n",
        "                                                                                   sep=\" \"),\n",
        "                                                         sep=\" \"),\n",
        "                                    sep=\" \")\n"
      ]
    },
    {
      "cell_type": "code",
      "execution_count": null,
      "metadata": {
        "id": "NkT9QEBdRefD"
      },
      "outputs": [],
      "source": [
        "pre2"
      ]
    },
    {
      "cell_type": "code",
      "execution_count": null,
      "metadata": {
        "id": "nlGFAd9nCaUS"
      },
      "outputs": [],
      "source": [
        "pre=pd.DataFrame()\n",
        "pre['text']=pd.concat([pre1['text'],pre2['text']],ignore_index=True)\n",
        "pre['summary']=pd.concat([pre1['headlines'],pre2['headlines']],ignore_index=True)"
      ]
    },
    {
      "cell_type": "code",
      "execution_count": null,
      "metadata": {
        "id": "QwIMlw3XE1cq"
      },
      "outputs": [],
      "source": [
        "pre"
      ]
    },
    {
      "cell_type": "code",
      "execution_count": null,
      "metadata": {
        "id": "TM7XFDiVE5hg"
      },
      "outputs": [],
      "source": [
        "pre.shape"
      ]
    },
    {
      "cell_type": "code",
      "execution_count": null,
      "metadata": {
        "id": "fUtqAbUhFGXY"
      },
      "outputs": [],
      "source": [
        "pre['text'][:10]"
      ]
    },
    {
      "cell_type": "code",
      "execution_count": null,
      "metadata": {
        "id": "rGIxS8SRF0z8"
      },
      "outputs": [],
      "source": [
        "import re\n",
        "\n",
        "def text_strip(column):\n",
        "  for row in column:\n",
        "    row=re.sub(\"(\\\\t)\",' ',str(row)).lower()\n",
        "\n",
        "    row=re.sub(\"(\\\\r)\",' ',str(row)).lower()\n",
        "\n",
        "    row=re.sub(\"(\\\\n)\",' ',str(row)).lower()\n",
        "\n",
        "    row=re.sub(\"(__+)\",\" \",str(row)).lower()\n",
        "    row=re.sub(\"(--+)\",\" \",str(row)).lower()\n",
        "    row=re.sub(\"(~~+)\",\" \",str(row)).lower()\n",
        "    row=re.sub(\"(\\+\\++)\",\" \",str(row)).lower()\n",
        "    row=re.sub(\"(\\.\\.+)\",\" \",str(row)).lower()\n",
        "\n",
        "    row=re.sub(r\"[<>()|&©ø\\[\\]\\'\\\",;?~*!]\",' ',str(row)).lower()\n",
        "\n",
        "    row=re.sub('(mailto:)',' ',str(row)).lower()\n",
        "    row=re.sub(r'(\\\\x9\\d)',' ',str(row)).lower()\n",
        "    row=re.sub(\"([iI][nN][cC]\\d+)\",'INC_NUM',str(row)).lower()\n",
        "    row=re.sub(\"([cC][mM]\\d+)|([cC][hH][gG]\\d+)\",' ',str(row)).lower()\n",
        "    row=re.sub('(\\.\\s+)',' ',str(row)).lower()\n",
        "    row=re.sub('(\\-\\s+)',' ',str(row)).lower()\n",
        "    row=re.sub('(\\:\\s+)',' ',str(row)).lower()\n",
        "\n",
        "    row=re.sub(\"(\\s+.\\s+)\",\" \",str(row)).lower()\n",
        "\n",
        "    try:\n",
        "      url=re.search(r'((https*:\\/*)([^\\/\\s]+))(.[^\\s]+)',str(row))\n",
        "      rep_url=url.group(3)\n",
        "      row=re.sub(r'((https*:\\/*)([^\\/\\s]+))(.[^\\s]+)',rep_url,str(row))\n",
        "\n",
        "    except:\n",
        "      pass\n",
        "\n",
        "    row=re.sub(\"(\\s+)\",\" \",str(row)).lower()\n",
        "\n",
        "    row=re.sub(\"(\\s+.\\s+)\",\" \",str(row)).lower()\n",
        "\n",
        "\n",
        "    yield row"
      ]
    },
    {
      "cell_type": "code",
      "execution_count": null,
      "metadata": {
        "id": "R0RkcgEkIXmw"
      },
      "outputs": [],
      "source": [
        "c1=text_strip(pre['text'])\n",
        "c2=text_strip(pre['summary'])"
      ]
    },
    {
      "cell_type": "code",
      "execution_count": null,
      "metadata": {
        "id": "Uegt9J_NJaRu"
      },
      "outputs": [],
      "source": [
        "from time import time\n",
        "\n",
        "import spacy\n",
        "\n",
        "\n",
        "nlp=spacy.load('en_core_web_sm',disable=['ner','parser'])\n",
        "\n",
        "t=time()\n",
        "\n",
        "text=[str(doc) for doc in nlp.pipe(c1,batch_size=5000)]\n",
        "\n",
        "print('Time to clean up everything: {} mins'.format(round((time() - t) / 60, 2)))\n"
      ]
    },
    {
      "cell_type": "code",
      "source": [
        "t=time()\n",
        "\n",
        "summary=['_START' + str(doc) +'_END_' for doc in nlp.pipe(c2,batch_size=5000)]\n",
        "\n",
        "print('time to clean up everything: {}'.format(round((time()-t)/6,0,2)))"
      ],
      "metadata": {
        "id": "DtKUbhfjxU73"
      },
      "execution_count": null,
      "outputs": []
    },
    {
      "cell_type": "code",
      "source": [
        "text[0]"
      ],
      "metadata": {
        "id": "oqVYjPzmzvlw"
      },
      "execution_count": null,
      "outputs": []
    },
    {
      "cell_type": "code",
      "source": [
        "summary[0]"
      ],
      "metadata": {
        "id": "omnBJVriz887"
      },
      "execution_count": null,
      "outputs": []
    },
    {
      "cell_type": "code",
      "source": [
        "pre['cleaned_text']=pd.Series(text)\n",
        "pre['cleaned_summary']=pd.Series(summary)"
      ],
      "metadata": {
        "id": "J-_FPIRkz_9K"
      },
      "execution_count": null,
      "outputs": []
    },
    {
      "cell_type": "code",
      "source": [
        "text_count=[]\n",
        "summary_count=[]"
      ],
      "metadata": {
        "id": "OSS1pic00M2x"
      },
      "execution_count": null,
      "outputs": []
    },
    {
      "cell_type": "code",
      "source": [
        "for sent in pre['cleaned_text']:\n",
        "  text_count.append(len(sent.split()))\n",
        "for sent in pre['cleaned_summary']:\n",
        "  summary_count.append(len(sent.split()))"
      ],
      "metadata": {
        "id": "Rq_RBfeH10BB"
      },
      "execution_count": null,
      "outputs": []
    },
    {
      "cell_type": "code",
      "source": [
        "graph_df=pd.DataFrame()\n",
        "graph_df['text']= text_count\n",
        "graph_df['summary']=summary_count"
      ],
      "metadata": {
        "id": "RU4_NmR03DgI"
      },
      "execution_count": null,
      "outputs": []
    },
    {
      "cell_type": "code",
      "source": [
        "import matplotlib.pyplot as plt\n",
        "\n",
        "graph_df.hist(bins=5)\n",
        "plt.show()"
      ],
      "metadata": {
        "id": "DCjF_Kkl4K6b"
      },
      "execution_count": null,
      "outputs": []
    },
    {
      "cell_type": "code",
      "source": [
        "cnt=0\n",
        "for i in pre['cleaned_summary']:\n",
        "  if(len(i.split())<=15):\n",
        "    cnt=cnt+1\n",
        "print(cnt/len(pre['cleaned_summary']))"
      ],
      "metadata": {
        "id": "5oPsuKRG4WEY"
      },
      "execution_count": null,
      "outputs": []
    },
    {
      "cell_type": "code",
      "source": [
        "cnt=0\n",
        "for i in pre['cleaned_text']:\n",
        "  if(len(i.split())<=100):\n",
        "    cnt=cnt+1\n",
        "\n",
        "print(cnt/len(pre['cleaned_text']))"
      ],
      "metadata": {
        "id": "UWTlgnJo5LPi"
      },
      "execution_count": null,
      "outputs": []
    },
    {
      "cell_type": "code",
      "source": [
        "max_text_len=100\n",
        "max_summary_len=15\n"
      ],
      "metadata": {
        "id": "pRW358yy5bwe"
      },
      "execution_count": null,
      "outputs": []
    },
    {
      "cell_type": "code",
      "source": [
        "cleaned_text=np.array(pre['cleaned_text'])\n",
        "cleaned_summary=np.array(pre['cleaned_summary'])\n",
        "\n",
        "short_text=[]\n",
        "short_summary=[]\n",
        "\n",
        "for i in range(len(cleaned_text)):\n",
        "  if(len(cleaned_summary[i].split())<=max_summary_len and len(cleaned_text[i].split())<=max_text_len):\n",
        "    short_text.append(cleaned_text[i])\n",
        "    short_summary.append(cleaned_summary[i])\n",
        "\n",
        "post_pre=pd.DataFrame({'text':short_text,'summary':short_summary})\n"
      ],
      "metadata": {
        "id": "_8g4lFFH5eI0"
      },
      "execution_count": null,
      "outputs": []
    },
    {
      "cell_type": "code",
      "source": [
        "post_pre.head(2)"
      ],
      "metadata": {
        "id": "OxlBbQJo1NFm"
      },
      "execution_count": null,
      "outputs": []
    },
    {
      "cell_type": "code",
      "source": [
        "post_pre['summary']=post_pre['summary'].apply(lambda x:'sostok '+ x +'eostok')"
      ],
      "metadata": {
        "id": "4bb7MFCE1T11"
      },
      "execution_count": null,
      "outputs": []
    },
    {
      "cell_type": "code",
      "source": [
        "post_pre.head(2)"
      ],
      "metadata": {
        "id": "Iad3NgCM1sBa"
      },
      "execution_count": null,
      "outputs": []
    },
    {
      "cell_type": "markdown",
      "source": [
        "**SEQ2SEQ MODEL BUILDING**"
      ],
      "metadata": {
        "id": "lHBguOmO14WD"
      }
    },
    {
      "cell_type": "code",
      "source": [
        "from sklearn.model_selection import train_test_split\n",
        "x_tr,x_val,y_tr,y_val=train_test_split(np.array(post_pre['text']),np.array(post_pre['summary']),test_size=0.1,random_state=0,shuffle=True)"
      ],
      "metadata": {
        "id": "x_3FzxmHIwkc"
      },
      "execution_count": null,
      "outputs": []
    },
    {
      "cell_type": "code",
      "source": [
        "import os\n",
        "os.environ['BACK_END']='tensorflow'"
      ],
      "metadata": {
        "id": "pXk2aEYWJmIO"
      },
      "execution_count": null,
      "outputs": []
    },
    {
      "cell_type": "code",
      "source": [
        "from keras.preprocessing.text import Tokenizer\n",
        "from keras.preprocessing.sequence import pad_sequences\n",
        "\n",
        "x_tokenizer=Tokenizer()\n",
        "x_tokenizer.fit_on_texts(list(x_tr))"
      ],
      "metadata": {
        "id": "98igx5IoJfbG"
      },
      "execution_count": null,
      "outputs": []
    },
    {
      "cell_type": "code",
      "source": [
        "thresh=4\n",
        "\n",
        "cnt=0\n",
        "tot_cnt=0\n",
        "freq=0\n",
        "tot_freq=0\n",
        "\n",
        "for key,value in x_tokenizer.word_counts.item():\n",
        "  tot_cnt=tot_cnt+1\n",
        "  tot_freq=tot_freq+value\n",
        "  if(value<thresh):\n",
        "      cnt=cnt+1\n",
        "      freq=freq+value\n",
        "\n",
        "print(\"% of rare words in vocabulary:\",(cnt/tot_cnt)*100)\n",
        "print(\"Total Coverage of rare words:\",(freq/tot_freq)*100)\n"
      ],
      "metadata": {
        "id": "uzUFS8a-Knfr"
      },
      "execution_count": null,
      "outputs": []
    },
    {
      "cell_type": "code",
      "source": [
        "x_tokenizer = Tokenizer(num_words=tot_cnt-cnt)\n",
        "x_tokenizer.fit_on_texts(list(x_tr))\n",
        "\n",
        "x_tr_seq=x_tokenizer.texts_to_sequences(x_tr)\n",
        "x_val_seq =x_tokenizer.texts_to_sequences(x_val)\n",
        "\n",
        "x_tr = pad_sequences(x_tr_seq,  maxlen=max_text_len, padding='post')\n",
        "x_val= pad_sequences(x_val_seq, maxlen=max_text_len, padding='post')\n",
        "\n",
        "x_voc=x_tokenizer.num_words + 1\n",
        "\n",
        "print(\"Size of vocabulary in X = {}\".format(x_voc))"
      ],
      "metadata": {
        "id": "WoKU7t4xd0Ef"
      },
      "execution_count": null,
      "outputs": []
    },
    {
      "cell_type": "code",
      "source": [
        "y_tokenizer = Tokenizer()\n",
        "y_tokenizer.fit_on_texts(list(y_tr))\n"
      ],
      "metadata": {
        "id": "qxu_i0Z8d8rU"
      },
      "execution_count": null,
      "outputs": []
    },
    {
      "cell_type": "code",
      "source": [
        "thresh=6\n",
        "\n",
        "cnt=0\n",
        "tot_cnt=0\n",
        "freq=0\n",
        "tot_freq=0\n",
        "\n",
        "for key,value in y_tokenizer.word_counts.items():\n",
        "    tot_cnt=tot_cnt+1\n",
        "    tot_freq=tot_freq+value\n",
        "    if(value<thresh):\n",
        "        cnt=cnt+1\n",
        "        freq=freq+value\n",
        "\n",
        "print(\"% of rare words in vocabulary:\",(cnt/tot_cnt)*100)\n",
        "print(\"Total Coverage of rare words:\",(freq/tot_freq)*100)\n"
      ],
      "metadata": {
        "id": "ZVzgQij7eAsp"
      },
      "execution_count": null,
      "outputs": []
    },
    {
      "cell_type": "code",
      "source": [
        "y_tokenizer=Tokenizer(num_words=tot_cnt-cnt)\n",
        "y_tokenizer.fit_on_texts(list(y_tr))\n",
        "\n",
        "y_tr_seq=y_tokenizer.texts_to_sequences(y_tr)\n",
        "y_val_seq=y_tokenizer.texts_to_sequences(y_val)\n",
        "\n",
        "y_tr=pad_sequences(y_tr_seq,maxlen=max_summary_len,padding='post')\n",
        "y_val=pad_sequnces(y_val_seq,maxlen=max_summary_len,padding='post')\n",
        "\n",
        "y_voc=y_tokenizer.num_words+1\n",
        "print('Size of vocabulary in Y ={}'.format(y_voc))"
      ],
      "metadata": {
        "id": "IYlXfJRVVr3L"
      },
      "execution_count": null,
      "outputs": []
    },
    {
      "cell_type": "code",
      "source": [
        "ind=[]\n",
        "for i in range(len(y_tr)):\n",
        "  cnt=0\n",
        "  for j in y_tr[i]:\n",
        "    if(j!=0):\n",
        "      cnt=cnt+1\n",
        "  if(cnt==2):\n",
        "    ind.append(i)\n",
        "\n",
        "y_tr=np.delete(y_tr,ind,axis=0)\n",
        "x_tr=np.delete(x_tr,ind,axis=0)"
      ],
      "metadata": {
        "id": "SctwdxcCal0w"
      },
      "execution_count": null,
      "outputs": []
    },
    {
      "cell_type": "code",
      "source": [
        "ind=[]\n",
        "for i in range(len(y_val)):\n",
        "    cnt=0\n",
        "    for j in y_val[i]:\n",
        "        if j!=0:\n",
        "            cnt=cnt+1\n",
        "    if(cnt==2):\n",
        "        ind.append(i)\n",
        "\n",
        "y_val=np.delete(y_val,ind, axis=0)\n",
        "x_val=np.delete(x_val,ind, axis=0)"
      ],
      "metadata": {
        "id": "LDDhjDAMfNwE"
      },
      "execution_count": null,
      "outputs": []
    },
    {
      "cell_type": "code",
      "source": [
        "!pip install gensim"
      ],
      "metadata": {
        "id": "9h9Gj0gcn41Z"
      },
      "execution_count": null,
      "outputs": []
    },
    {
      "cell_type": "code",
      "source": [
        "import gensim\n",
        "import numpy as np\n",
        "import pandas as pd\n",
        "import re\n",
        "from tensorflow.keras.preprocessing.text import Tokenizer\n",
        "from tensorflow.keras.preprocessing.sequence import pad_sequences\n",
        "from nltk.corpus import stopwords\n",
        "from tensorflow.keras.layers import Input,LSTM,Embedding,Dense,Concatenate,TimeDistributed\n",
        "from tensorflow.keras.models import Model\n",
        "from tensorflow.keras.callbacks import EarlyStopping\n",
        "import warnings\n",
        "pd.set_option('display.max_colwidth',200)\n",
        "\n",
        "print('Size of vocabulary from the w2v model={}'.format(x_voc))\n",
        "\n",
        "latent_dim=300\n",
        "embedding_dim=200\n",
        "\n",
        "encoder_inputs=Input(shape=(max_text_len,))\n",
        "\n",
        "enc_emb=Embedding(x_voc,embedding_dim,trainable=True)(encoder_inputs)\n",
        "\n",
        "encoder_lstm1=LSTM(latent_dim,return_sequences=True,return_state=True,dropout=0.4,recurrent_dropout=0.4)\n",
        "encoder_output1,state_h1,state_c1=encoder_lstm1(enc_emb)\n",
        "\n",
        "encoder_lstm2=LSTM(latent_dim,return_sequences=True,return_state=True,dropout=0.4,recurrent_dropout=0.4)\n",
        "encoder_output2,state_h2,state_c2=encoder_lstm2(encoder_output1)\n",
        "\n",
        "enocder_lstm3=LSTM(latent_dim,return_sequences=True,return_state=True,dropout=0.4,recurrent_dropout=0.4)\n",
        "encoder_outputs,state_h,state_c=enocder_lstm3(encoder_output2)\n",
        "\n",
        "decoder_inputs=Input(shape=(None,))\n",
        "\n",
        "dec_emb_layer=Embedding(y_voc,embedding_dim,trainable=True)\n",
        "dec_emb=dec_emb_layer(decoder_inputs)\n",
        "\n",
        "decoder_lstm=LSTM(latent_dim,return_sequences=True,return_state=True,dropout=0.4,recurrent_dropout=0.2)\n",
        "decoder_outputs,decoder_fwd_state,decoder_back_state=decoder_lstm(dec_emb,initial_state=[state_h,state_c])\n",
        "\n",
        "decoder_dense=TimeDistributed(Dense(y_voc,activation='softmax'))\n",
        "decoder_outputs=decoder_dense(decoder_output)\n",
        "\n",
        "model=Model([encoder_inputs,decoder_inputs],decoder_ouputs)\n",
        "\n",
        "model.summary()"
      ],
      "metadata": {
        "id": "jCTHpx0kgujB"
      },
      "execution_count": null,
      "outputs": []
    },
    {
      "cell_type": "code",
      "source": [
        "model.compile(optimizer='rmsprop',loss='sparse_categorical_crossentropy')\n",
        "es=EarlyStopping(monitor='val_loss',patience=2,verbose=1)"
      ],
      "metadata": {
        "id": "-HdJAMaM3Lvp"
      },
      "execution_count": null,
      "outputs": []
    },
    {
      "cell_type": "code",
      "source": [
        "history=model.fit([x_tr,y_tr[:,:-1]],\n",
        "                  y_tr.reshape(y_tr.shape[0],y_tr.shape[1],1)[:,1:],\n",
        "                  callbacks=[es],\n",
        "                  epochs=50,\n",
        "                  batch_size=128,\n",
        "                  validation_data=([x_val,y_val[:,:-1]],\n",
        "                  y_val.reshape(y_val.shape[0],y_val.shape[1],1)[:,1:])\n",
        "                  )"
      ],
      "metadata": {
        "id": "n0x_-pN2BxjN"
      },
      "execution_count": null,
      "outputs": []
    },
    {
      "cell_type": "code",
      "source": [
        "from matplotlib import plotly\n",
        "pyplot.plot(history.history['loss'],label='train')\n",
        "pyplot.plot(history.history['val_loss'],label='test')\n",
        "pyplot.legend()\n",
        "pyplot.show()\n"
      ],
      "metadata": {
        "id": "Ok0XCRvxFcSs"
      },
      "execution_count": null,
      "outputs": []
    },
    {
      "cell_type": "code",
      "source": [
        "reverse_target_word_index=y_tokenizer.index_word\n",
        "reverse_source_word_index=x_tokenizer.index_word\n",
        "target_word_index=y_tokenizer.word_index"
      ],
      "metadata": {
        "id": "6ktmystqF4ou"
      },
      "execution_count": null,
      "outputs": []
    },
    {
      "cell_type": "code",
      "source": [
        "enocder_model=Model(inputs=encoder_inputs,outputs=[encoder_outputs,state_h,state_c])\n",
        "\n",
        "decoder_state_input_h=Input(shape=(latent_dim,))\n",
        "decoder_state_input_c=Input(shape=(latent_dim,))\n",
        "decoder_hidden_state_input=Input(shape=(max_text_len,latent_dim))\n",
        "\n",
        "dec_emb2=dec_emb_layer(decoder_inputs)\n",
        "decoder_outputs2,state_h2,state_c2=decoder_lstm(dec_emb2,initial_state=[decoder_state_input_h,decoder_state_input_c])\n",
        "\n",
        "decoder_outputs2=decoder_dense(decoder_outputs2)\n",
        "\n",
        "decoder_model=Model([decoder_inputs]+\n",
        " [decoder_hidden_state_input,decoder_state_input_h,decoder_state_input_c],\n",
        " [decoder_outputs2]+[state_h2,state_c2])"
      ],
      "metadata": {
        "id": "RSmTElYyHBFH"
      },
      "execution_count": null,
      "outputs": []
    },
    {
      "cell_type": "code",
      "source": [
        "def decode_sequence(input_seq):\n",
        "  e_out,e_h,e_c=encoder_model.predict(input_seq)\n",
        "\n",
        "  target_seq=np.zeros((1,1))\n",
        "\n",
        "  target_seq[0,0]=target_word_index['sostok']\n",
        "\n",
        "  stop_condition=False\n",
        "  decoded_sentence=''\n",
        "  while not stop_condition:\n",
        "    output_tokens,h,c=decoder_model.predict([target_seq]+[e_out,e_h,e_c])\n",
        "\n",
        "    sampled_token_index=np.argmax(output_tokens[0,-1,:])\n",
        "\n",
        "    sampled_token=reverse_target_word_index[sampled_token_index]\n",
        "\n",
        "    if(sampled_token!='eostok'):\n",
        "      decoded_sentence+=' '+sampled_token\n",
        "\n",
        "    if(sampled_token=='eostok' or len(decoded_sentence.split())>=(max_summary_len-1)):\n",
        "      stop_condition=True\n",
        "\n",
        "    target_seq=np.zero((1,1))\n",
        "\n",
        "    target_seq[0,0]=sampled_token_index\n",
        "\n",
        "    e_h,e_c=h,c\n",
        "\n",
        "  return decoded_sentence\n",
        "\n"
      ],
      "metadata": {
        "id": "WKepZ3YGRm4s"
      },
      "execution_count": null,
      "outputs": []
    },
    {
      "cell_type": "code",
      "source": [
        "def seq2summary(input_seq):\n",
        "  newString=''\n",
        "  for i in input_seq:\n",
        "    if(i!=0 and i!=target_word_index['sostok'] and i!=target_word_index['eostok']):\n",
        "      newString+=reverse_target_word_index[i]+' '\n",
        "\n",
        "  return newString\n",
        "\n",
        "def seq2text(input_seq):\n",
        "  newString=''\n",
        "  for i in input_seq:\n",
        "    if(i!=0):\n",
        "      newString=newString+reverse_target_word_index[i]+' '\n",
        "\n",
        "  return newString"
      ],
      "metadata": {
        "id": "d-y8pckmm9oo"
      },
      "execution_count": null,
      "outputs": []
    },
    {
      "cell_type": "code",
      "source": [
        "for i in range(0,100):\n",
        "  print('Review :',seq2text(x_tr[i]))\n",
        "  print('Original summary :',seq2summary(y_tr[i]))\n",
        "  print('predicted summary :',decode_sequence(x_tr[i].reshape(1,max_text_len)))\n",
        "  print('\\n')"
      ],
      "metadata": {
        "id": "3haITO9isSSf"
      },
      "execution_count": null,
      "outputs": []
    }
  ],
  "metadata": {
    "colab": {
      "provenance": [],
      "authorship_tag": "ABX9TyMZEbDMlFhVZIWgXSRI0M7J",
      "include_colab_link": true
    },
    "kernelspec": {
      "display_name": "Python 3",
      "name": "python3"
    },
    "language_info": {
      "name": "python"
    }
  },
  "nbformat": 4,
  "nbformat_minor": 0
}